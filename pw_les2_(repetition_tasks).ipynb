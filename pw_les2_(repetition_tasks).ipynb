{
 "cells": [
  {
   "cell_type": "markdown",
   "metadata": {},
   "source": [
    "**Задание на повторение материала\n",
    "    1. Создать одномерный массив Numpy под названием a из 12 последовательных целых чисел чисел от 12 до 24 невключительно\n",
    "   "
   ]
  },
  {
   "cell_type": "code",
   "execution_count": 3,
   "metadata": {},
   "outputs": [
    {
     "data": {
      "text/plain": [
       "array([12, 13, 14, 15, 16, 17, 18, 19, 20, 21, 22, 23])"
      ]
     },
     "execution_count": 3,
     "metadata": {},
     "output_type": "execute_result"
    }
   ],
   "source": [
    "import numpy as np\n",
    "a = np.arange(12, 24)\n",
    "a"
   ]
  },
  {
   "cell_type": "markdown",
   "metadata": {},
   "source": [
    " 2. Создать 5 двумерных массивов разной формы из массива a. Не использовать в аргументах метода reshape число -1.\n",
    "    "
   ]
  },
  {
   "cell_type": "code",
   "execution_count": 4,
   "metadata": {},
   "outputs": [
    {
     "data": {
      "text/plain": [
       "array([[12],\n",
       "       [13],\n",
       "       [14],\n",
       "       [15],\n",
       "       [16],\n",
       "       [17],\n",
       "       [18],\n",
       "       [19],\n",
       "       [20],\n",
       "       [21],\n",
       "       [22],\n",
       "       [23]])"
      ]
     },
     "execution_count": 4,
     "metadata": {},
     "output_type": "execute_result"
    }
   ],
   "source": [
    "b = a.reshape(12, 1)\n",
    "c = a.reshape(2, 6)\n",
    "d = a.reshape(6, 2)\n",
    "e = a.reshape(3, 4)\n",
    "f = a.reshape(4, 3)\n",
    "b"
   ]
  },
  {
   "cell_type": "markdown",
   "metadata": {},
   "source": [
    "3. Создать 5 двумерных массивов разной формы из массива a. Использовать в аргументах метода reshape число -1 (в трех примерах - для обозначения числа столбцов, в двух - для строк).\n",
    "   "
   ]
  },
  {
   "cell_type": "code",
   "execution_count": 6,
   "metadata": {},
   "outputs": [],
   "source": [
    "b1 = a.reshape(12, -1)\n",
    "c1 = a.reshape(2, -1)\n",
    "d1 = a.reshape(6, -1)\n",
    "e1 = a.reshape(-1, 4)\n",
    "f1 = a.reshape(-1, 3)\n"
   ]
  },
  {
   "cell_type": "markdown",
   "metadata": {},
   "source": [
    " 4. Можно ли массив Numpy, состоящий из одного столбца и 12 строк, назвать одномерным?\n",
    "   "
   ]
  },
  {
   "cell_type": "code",
   "execution_count": 25,
   "metadata": {},
   "outputs": [
    {
     "data": {
      "text/plain": [
       "(13, array([13]))"
      ]
     },
     "execution_count": 25,
     "metadata": {},
     "output_type": "execute_result"
    }
   ],
   "source": [
    "b1[1][0],b1[1]\n",
    "# - нет(два измерения ,по одному измерению равно 1\"единица\" по второму 12\"единиц\")\n",
    "# в первом случае мы получаем число, во втором массив с одним числом"
   ]
  },
  {
   "cell_type": "markdown",
   "metadata": {},
   "source": [
    " 5. Создать массив из 3 строк и 4 столбцов, состоящий из случайных чисел с плавающей запятой из нормального распределения со средним, равным 0 и среднеквадратичным отклонением, равным 1.0. Получить из этого массива одномерный массив с таким же атрибутом size, как и исходный массив.\n",
    "   "
   ]
  },
  {
   "cell_type": "code",
   "execution_count": 26,
   "metadata": {},
   "outputs": [
    {
     "data": {
      "text/plain": [
       "(array([[-0.60662596,  1.53592801,  1.59788063, -0.95884207],\n",
       "        [-1.05976135,  0.10953747,  0.50566636, -0.44878013],\n",
       "        [-1.73248443, -0.58340795,  0.92844122,  1.10804585]]),\n",
       " array([-0.60662596,  1.53592801,  1.59788063, -0.95884207, -1.05976135,\n",
       "         0.10953747,  0.50566636, -0.44878013, -1.73248443, -0.58340795,\n",
       "         0.92844122,  1.10804585]),\n",
       " True)"
      ]
     },
     "execution_count": 26,
     "metadata": {},
     "output_type": "execute_result"
    }
   ],
   "source": [
    "massiv = np.random.randn(3, 4)\n",
    "massiv_flatten = massiv.flatten()\n",
    "massiv, massiv_flatten, massiv.size == massiv_flatten.size"
   ]
  },
  {
   "cell_type": "markdown",
   "metadata": {},
   "source": [
    " 6. Создать массив a, состоящий из целых чисел, убывающих от 20 до 0 невключительно с интервалом 2.\n",
    "    "
   ]
  },
  {
   "cell_type": "code",
   "execution_count": 27,
   "metadata": {},
   "outputs": [
    {
     "data": {
      "text/plain": [
       "array([20, 18, 16, 14, 12, 10,  8,  6,  4,  2])"
      ]
     },
     "execution_count": 27,
     "metadata": {},
     "output_type": "execute_result"
    }
   ],
   "source": [
    "a = np.arange(20, 0, -2)\n",
    "a"
   ]
  },
  {
   "cell_type": "markdown",
   "metadata": {},
   "source": [
    "7. Создать массив b, состоящий из 1 строки и 10 столбцов: целых чисел, убывающих от 20 до 1 невключительно с интервалом 2. В чем разница между массивами a и b?\n",
    "    "
   ]
  },
  {
   "cell_type": "code",
   "execution_count": 28,
   "metadata": {},
   "outputs": [
    {
     "data": {
      "text/plain": [
       "((1, 10), (10,))"
      ]
     },
     "execution_count": 28,
     "metadata": {},
     "output_type": "execute_result"
    }
   ],
   "source": [
    "b = np.array([np.arange(20, 1, -2)])\n",
    "b.shape, a.shape"
   ]
  },
  {
   "cell_type": "markdown",
   "metadata": {},
   "source": [
    "8. Вертикально соединить массивы a и b. a - двумерный массив из нулей, число строк которого больше 1 и на 1 меньше, чем число строк двумерного массива b, состоящего из единиц. Итоговый массив v должен иметь атрибут size, равный 10.\n",
    "    "
   ]
  },
  {
   "cell_type": "code",
   "execution_count": 29,
   "metadata": {},
   "outputs": [
    {
     "data": {
      "text/plain": [
       "(True,\n",
       " array([[0., 0.],\n",
       "        [0., 0.],\n",
       "        [0., 0.],\n",
       "        [1., 1.],\n",
       "        [1., 1.]]))"
      ]
     },
     "execution_count": 29,
     "metadata": {},
     "output_type": "execute_result"
    }
   ],
   "source": [
    "a = np.zeros((3, 2))\n",
    "b = np.ones((2, 2))\n",
    "v = np.concatenate((a, b), axis=0)\n",
    "v.size == 10, v"
   ]
  },
  {
   "cell_type": "markdown",
   "metadata": {},
   "source": [
    "9. Создать одномерный массив а, состоящий из последовательности целых чисел от 0 до 12. Поменять форму этого массива, чтобы получилась матрица A (двумерный массив Numpy), состоящая из 4 строк и 3 столбцов. Получить матрицу At путем транспонирования матрицы A. Получить матрицу B, умножив матрицу A на матрицу At с помощью матричного умножения. Какой размер имеет матрица B? Получится ли вычислить обратную матрицу для матрицы B и почему?\n",
    "    "
   ]
  },
  {
   "cell_type": "code",
   "execution_count": 30,
   "metadata": {},
   "outputs": [
    {
     "data": {
      "text/plain": [
       "(2, 0.0)"
      ]
     },
     "execution_count": 30,
     "metadata": {},
     "output_type": "execute_result"
    }
   ],
   "source": [
    "a = np.arange(0, 12)\n",
    "A = a.reshape(4, 3)\n",
    "At = A.T\n",
    "B = A.dot(At)\n",
    "# B_inv = np.linalg.inv(B)\n",
    "B_rank = np.linalg.matrix_rank(B)\n",
    "B_det = np.linalg.det(B)\n",
    "B_rank, B_det\n",
    "# обратную матрицу можно посчитать только для матрицы определитьель которой не равен 0"
   ]
  },
  {
   "cell_type": "markdown",
   "metadata": {},
   "source": [
    "10.  Инициализируйте генератор случайных числе с помощью объекта seed, равного 42.\n",
    "    "
   ]
  },
  {
   "cell_type": "code",
   "execution_count": 31,
   "metadata": {},
   "outputs": [],
   "source": [
    "np.random.seed(42)\n"
   ]
  },
  {
   "cell_type": "markdown",
   "metadata": {},
   "source": [
    "11. Создайте одномерный массив c, составленный из последовательности 16-ти случайных равномерно распределенных целых чисел от 0 до 16 невключительно. \n",
    "   "
   ]
  },
  {
   "cell_type": "code",
   "execution_count": 32,
   "metadata": {},
   "outputs": [
    {
     "data": {
      "text/plain": [
       "array([ 6,  3, 12, 14, 10,  7, 12,  4,  6,  9,  2,  6, 10, 10,  7,  4])"
      ]
     },
     "execution_count": 32,
     "metadata": {},
     "output_type": "execute_result"
    }
   ],
   "source": [
    "np.random.seed(42)\n",
    "c = np.random.randint(0, 16, 16)\n",
    "c"
   ]
  },
  {
   "cell_type": "markdown",
   "metadata": {},
   "source": [
    " 12. Поменяйте его форму так, чтобы получилась квадратная матрица C. Получите матрицу D, поэлементно прибавив матрицу B из предыдущего вопроса к матрице C, умноженной на 10. Вычислите определитель, ранг и обратную матрицу D_inv для D.\n",
    "    "
   ]
  },
  {
   "cell_type": "code",
   "execution_count": 33,
   "metadata": {},
   "outputs": [
    {
     "name": "stdout",
     "output_type": "stream",
     "text": [
      "Матрица C:\n",
      "[[ 6  3 12 14]\n",
      " [10  7 12  4]\n",
      " [ 6  9  2  6]\n",
      " [10 10  7  4]],\n",
      "Матрица C * 10:\n",
      "[[ 60  30 120 140]\n",
      " [100  70 120  40]\n",
      " [ 60  90  20  60]\n",
      " [100 100  70  40]],\n",
      "Матрица B:\n",
      "[[  5  14  23  32]\n",
      " [ 14  50  86 122]\n",
      " [ 23  86 149 212]\n",
      " [ 32 122 212 302]],\n",
      "Матрица D:\n",
      "[[ 65  44 143 172]\n",
      " [114 120 206 162]\n",
      " [ 83 176 169 272]\n",
      " [132 222 282 342]],\n",
      "\n",
      "Определитель матрицы D: -28511999.999999944,\n",
      "Ранг матрицы D: 4,\n",
      "Обратная матрица к матрице D:\n",
      "[[ 0.00935396  0.04486532  0.05897517 -0.07286055]\n",
      " [-0.01503577 -0.00122896 -0.00192971  0.00967873]\n",
      " [-0.00356692 -0.01782828 -0.04152146  0.04326178]\n",
      " [ 0.00909091 -0.00181818  0.01272727 -0.01090909]]\n"
     ]
    }
   ],
   "source": [
    "C = c.reshape(4, -1)\n",
    "D = B + C * 10\n",
    "D_det = np.linalg.det(D)\n",
    "D_rank = np.linalg.matrix_rank(D)\n",
    "D_inv = np.linalg.inv(D)\n",
    "print(f'Матрица C:\\n{C},\\n'\n",
    "      f'Матрица C * 10:\\n{C*10},\\n'\n",
    "      f'Матрица B:\\n{B},\\n'\n",
    "      f'Матрица D:\\n{D},\\n'\n",
    "      f'\\nОпределитель матрицы D: {D_det},\\n'\n",
    "      f'Ранг матрицы D: {D_rank},\\n'\n",
    "      f'Обратная матрица к матрице D:\\n{D_inv}')"
   ]
  },
  {
   "cell_type": "markdown",
   "metadata": {},
   "source": [
    "13. Приравняйте к нулю отрицательные числа в матрице D_inv, а положительные - к единице. Убедитесь, что в матрице D_inv остались только нули и единицы. С помощью функции numpy.where, используя матрицу D_inv в качестве маски, а матрицы B и C - в качестве источников данных, получите матрицу E размером 4x4.  Элементы матрицы E, для которых соответствующий элемент матрицы D_inv равен 1, должны быть равны соответствующему элементу матрицы B, а элементы матрицы E, для которых соответствующий элемент матрицы D_inv равен 0, должны быть равны соответствующему элементу матрицы C."
   ]
  },
  {
   "cell_type": "code",
   "execution_count": 34,
   "metadata": {},
   "outputs": [
    {
     "name": "stdout",
     "output_type": "stream",
     "text": [
      "D_inv :\n",
      "[[1. 1. 1. 0.]\n",
      " [0. 0. 0. 1.]\n",
      " [0. 0. 0. 1.]\n",
      " [1. 0. 1. 0.]]\n",
      " B :\n",
      "[[  5  14  23  32]\n",
      " [ 14  50  86 122]\n",
      " [ 23  86 149 212]\n",
      " [ 32 122 212 302]]\n",
      " C :\n",
      "[[ 6  3 12 14]\n",
      " [10  7 12  4]\n",
      " [ 6  9  2  6]\n",
      " [10 10  7  4]]\n",
      " E :\n",
      "[[  5  14  23  14]\n",
      " [ 10   7  12 122]\n",
      " [  6   9   2 212]\n",
      " [ 32  10 212   4]]\n",
      "\n"
     ]
    }
   ],
   "source": [
    "D_inv[D_inv < 0] = 0\n",
    "D_inv[D_inv > 0] = 1\n",
    "E = np.where(D_inv, B, C)\n",
    "print(f'D_inv :\\n{D_inv}\\n',\n",
    "      f'B :\\n{B}\\n',\n",
    "      f'C :\\n{C}\\n',\n",
    "      f'E :\\n{E}\\n')"
   ]
  },
  {
   "cell_type": "code",
   "execution_count": 35,
   "metadata": {},
   "outputs": [
    {
     "data": {
      "text/plain": [
       "\u001b[0;31mDocstring:\u001b[0m\n",
       "where(condition, [x, y])\n",
       "\n",
       "Return elements chosen from `x` or `y` depending on `condition`.\n",
       "\n",
       ".. note::\n",
       "    When only `condition` is provided, this function is a shorthand for\n",
       "    ``np.asarray(condition).nonzero()``. Using `nonzero` directly should be\n",
       "    preferred, as it behaves correctly for subclasses. The rest of this\n",
       "    documentation covers only the case where all three arguments are\n",
       "    provided.\n",
       "\n",
       "Parameters\n",
       "----------\n",
       "condition : array_like, bool\n",
       "    Where True, yield `x`, otherwise yield `y`.\n",
       "x, y : array_like\n",
       "    Values from which to choose. `x`, `y` and `condition` need to be\n",
       "    broadcastable to some shape.\n",
       "\n",
       "Returns\n",
       "-------\n",
       "out : ndarray\n",
       "    An array with elements from `x` where `condition` is True, and elements\n",
       "    from `y` elsewhere.\n",
       "\n",
       "See Also\n",
       "--------\n",
       "choose\n",
       "nonzero : The function that is called when x and y are omitted\n",
       "\n",
       "Notes\n",
       "-----\n",
       "If all the arrays are 1-D, `where` is equivalent to::\n",
       "\n",
       "    [xv if c else yv\n",
       "     for c, xv, yv in zip(condition, x, y)]\n",
       "\n",
       "Examples\n",
       "--------\n",
       ">>> a = np.arange(10)\n",
       ">>> a\n",
       "array([0, 1, 2, 3, 4, 5, 6, 7, 8, 9])\n",
       ">>> np.where(a < 5, a, 10*a)\n",
       "array([ 0,  1,  2,  3,  4, 50, 60, 70, 80, 90])\n",
       "\n",
       "This can be used on multidimensional arrays too:\n",
       "\n",
       ">>> np.where([[True, False], [True, True]],\n",
       "...          [[1, 2], [3, 4]],\n",
       "...          [[9, 8], [7, 6]])\n",
       "array([[1, 8],\n",
       "       [3, 4]])\n",
       "\n",
       "The shapes of x, y, and the condition are broadcast together:\n",
       "\n",
       ">>> x, y = np.ogrid[:3, :4]\n",
       ">>> np.where(x < y, x, 10 + y)  # both x and 10+y are broadcast\n",
       "array([[10,  0,  0,  0],\n",
       "       [10, 11,  1,  1],\n",
       "       [10, 11, 12,  2]])\n",
       "\n",
       ">>> a = np.array([[0, 1, 2],\n",
       "...               [0, 2, 4],\n",
       "...               [0, 3, 6]])\n",
       ">>> np.where(a < 4, a, -1)  # -1 is broadcast\n",
       "array([[ 0,  1,  2],\n",
       "       [ 0,  2, -1],\n",
       "       [ 0,  3, -1]])\n",
       "\u001b[0;31mType:\u001b[0m      function\n"
      ]
     },
     "metadata": {},
     "output_type": "display_data"
    }
   ],
   "source": [
    "?np.where"
   ]
  },
  {
   "cell_type": "code",
   "execution_count": null,
   "metadata": {},
   "outputs": [],
   "source": []
  },
  {
   "cell_type": "code",
   "execution_count": null,
   "metadata": {},
   "outputs": [],
   "source": []
  }
 ],
 "metadata": {
  "kernelspec": {
   "display_name": "Python 3",
   "language": "python",
   "name": "python3"
  },
  "language_info": {
   "codemirror_mode": {
    "name": "ipython",
    "version": 3
   },
   "file_extension": ".py",
   "mimetype": "text/x-python",
   "name": "python",
   "nbconvert_exporter": "python",
   "pygments_lexer": "ipython3",
   "version": "3.7.6"
  }
 },
 "nbformat": 4,
 "nbformat_minor": 4
}
